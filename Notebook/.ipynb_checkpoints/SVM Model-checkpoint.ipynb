{
 "cells": [
  {
   "cell_type": "code",
   "execution_count": 2,
   "id": "422e9bc7",
   "metadata": {},
   "outputs": [],
   "source": [
    "import pandas as pd\n",
    "from collections import Counter\n",
    "import numpy as np\n",
    "import pickle"
   ]
  },
  {
   "cell_type": "code",
   "execution_count": null,
   "id": "dbaaf3c0",
   "metadata": {},
   "outputs": [],
   "source": [
    "#Lode data"
   ]
  },
  {
   "cell_type": "code",
   "execution_count": 3,
   "id": "e5d86db1",
   "metadata": {},
   "outputs": [
    {
     "data": {
      "text/html": [
       "<div>\n",
       "<style scoped>\n",
       "    .dataframe tbody tr th:only-of-type {\n",
       "        vertical-align: middle;\n",
       "    }\n",
       "\n",
       "    .dataframe tbody tr th {\n",
       "        vertical-align: top;\n",
       "    }\n",
       "\n",
       "    .dataframe thead th {\n",
       "        text-align: right;\n",
       "    }\n",
       "</style>\n",
       "<table border=\"1\" class=\"dataframe\">\n",
       "  <thead>\n",
       "    <tr style=\"text-align: right;\">\n",
       "      <th></th>\n",
       "      <th>Unnamed: 0</th>\n",
       "      <th>Class</th>\n",
       "      <th>Detail</th>\n",
       "      <th>Department</th>\n",
       "      <th>Aspect</th>\n",
       "    </tr>\n",
       "  </thead>\n",
       "  <tbody>\n",
       "    <tr>\n",
       "      <th>0</th>\n",
       "      <td>6544</td>\n",
       "      <td>1</td>\n",
       "      <td>จอดรถไกล</td>\n",
       "      <td>ENV</td>\n",
       "      <td>5</td>\n",
       "    </tr>\n",
       "    <tr>\n",
       "      <th>1</th>\n",
       "      <td>1885</td>\n",
       "      <td>1</td>\n",
       "      <td>อยากให้ลิฟต์สำหรับผู้ป่วยแยก เวลาขึ้นลงลำบาก ท...</td>\n",
       "      <td>ENV</td>\n",
       "      <td>7</td>\n",
       "    </tr>\n",
       "    <tr>\n",
       "      <th>2</th>\n",
       "      <td>4301</td>\n",
       "      <td>0</td>\n",
       "      <td>เจ้าหน้าที่ยิ้มแย้มดีค่ะ</td>\n",
       "      <td>EX5WEL</td>\n",
       "      <td>0</td>\n",
       "    </tr>\n",
       "    <tr>\n",
       "      <th>3</th>\n",
       "      <td>5073</td>\n",
       "      <td>1</td>\n",
       "      <td>อยากให้จัดสรรที่จอดรถ ไม่เพียงพอ มีน้อยมาก</td>\n",
       "      <td>ENV</td>\n",
       "      <td>5</td>\n",
       "    </tr>\n",
       "    <tr>\n",
       "      <th>4</th>\n",
       "      <td>5720</td>\n",
       "      <td>0</td>\n",
       "      <td>บริการดี</td>\n",
       "      <td>OPD12ENT</td>\n",
       "      <td>1</td>\n",
       "    </tr>\n",
       "  </tbody>\n",
       "</table>\n",
       "</div>"
      ],
      "text/plain": [
       "   Unnamed: 0  Class                                             Detail  \\\n",
       "0        6544      1                                           จอดรถไกล   \n",
       "1        1885      1  อยากให้ลิฟต์สำหรับผู้ป่วยแยก เวลาขึ้นลงลำบาก ท...   \n",
       "2        4301      0                           เจ้าหน้าที่ยิ้มแย้มดีค่ะ   \n",
       "3        5073      1         อยากให้จัดสรรที่จอดรถ ไม่เพียงพอ มีน้อยมาก   \n",
       "4        5720      0                                           บริการดี   \n",
       "\n",
       "  Department  Aspect  \n",
       "0        ENV       5  \n",
       "1        ENV       7  \n",
       "2     EX5WEL       0  \n",
       "3        ENV       5  \n",
       "4   OPD12ENT       1  "
      ]
     },
     "execution_count": 3,
     "metadata": {},
     "output_type": "execute_result"
    }
   ],
   "source": [
    "blind_test = pd.read_excel(r'C:\\Master\\IS\\blind_test.xlsx')\n",
    "blind_test.head()"
   ]
  },
  {
   "cell_type": "code",
   "execution_count": 4,
   "id": "78e494b1",
   "metadata": {},
   "outputs": [
    {
     "data": {
      "text/html": [
       "<div>\n",
       "<style scoped>\n",
       "    .dataframe tbody tr th:only-of-type {\n",
       "        vertical-align: middle;\n",
       "    }\n",
       "\n",
       "    .dataframe tbody tr th {\n",
       "        vertical-align: top;\n",
       "    }\n",
       "\n",
       "    .dataframe thead th {\n",
       "        text-align: right;\n",
       "    }\n",
       "</style>\n",
       "<table border=\"1\" class=\"dataframe\">\n",
       "  <thead>\n",
       "    <tr style=\"text-align: right;\">\n",
       "      <th></th>\n",
       "      <th>Unnamed: 0</th>\n",
       "      <th>Class</th>\n",
       "      <th>Detail</th>\n",
       "      <th>Department</th>\n",
       "      <th>Aspect</th>\n",
       "    </tr>\n",
       "  </thead>\n",
       "  <tbody>\n",
       "    <tr>\n",
       "      <th>0</th>\n",
       "      <td>0</td>\n",
       "      <td>1</td>\n",
       "      <td>ประชาสัมพันธ์ ไม่ควรนำอาหารมากินระหว่างการรับห...</td>\n",
       "      <td>MPR</td>\n",
       "      <td>0</td>\n",
       "    </tr>\n",
       "    <tr>\n",
       "      <th>1</th>\n",
       "      <td>1</td>\n",
       "      <td>1</td>\n",
       "      <td>แอร์ในห้องพักเย็นมาก ไม่เหมาะสมกับห้อง รู้สึกท...</td>\n",
       "      <td>ENV</td>\n",
       "      <td>7</td>\n",
       "    </tr>\n",
       "    <tr>\n",
       "      <th>2</th>\n",
       "      <td>2</td>\n",
       "      <td>0</td>\n",
       "      <td>ขอขอบพระคุณ นพ.ภูวพงศ์แพทย์เจ้าของไข้ พร้อมด้ว...</td>\n",
       "      <td>MED</td>\n",
       "      <td>3</td>\n",
       "    </tr>\n",
       "    <tr>\n",
       "      <th>3</th>\n",
       "      <td>3</td>\n",
       "      <td>1</td>\n",
       "      <td>การบริการฝากครรภ์หน้าจะมีการแก้ไขให้ดีกว่านี้</td>\n",
       "      <td>LR</td>\n",
       "      <td>1</td>\n",
       "    </tr>\n",
       "    <tr>\n",
       "      <th>4</th>\n",
       "      <td>4</td>\n",
       "      <td>0</td>\n",
       "      <td>คุณหมอเก่งเอาใจใส่ดีมาก</td>\n",
       "      <td>MED</td>\n",
       "      <td>3</td>\n",
       "    </tr>\n",
       "  </tbody>\n",
       "</table>\n",
       "</div>"
      ],
      "text/plain": [
       "   Unnamed: 0  Class                                             Detail  \\\n",
       "0           0      1  ประชาสัมพันธ์ ไม่ควรนำอาหารมากินระหว่างการรับห...   \n",
       "1           1      1  แอร์ในห้องพักเย็นมาก ไม่เหมาะสมกับห้อง รู้สึกท...   \n",
       "2           2      0  ขอขอบพระคุณ นพ.ภูวพงศ์แพทย์เจ้าของไข้ พร้อมด้ว...   \n",
       "3           3      1      การบริการฝากครรภ์หน้าจะมีการแก้ไขให้ดีกว่านี้   \n",
       "4           4      0                            คุณหมอเก่งเอาใจใส่ดีมาก   \n",
       "\n",
       "  Department  Aspect  \n",
       "0        MPR       0  \n",
       "1        ENV       7  \n",
       "2        MED       3  \n",
       "3         LR       1  \n",
       "4        MED       3  "
      ]
     },
     "execution_count": 4,
     "metadata": {},
     "output_type": "execute_result"
    }
   ],
   "source": [
    "test_set = pd.read_excel(r'C:\\Master\\IS\\train_set.xlsx')\n",
    "test_set.head()"
   ]
  },
  {
   "cell_type": "code",
   "execution_count": 5,
   "id": "2ec0aacc",
   "metadata": {},
   "outputs": [],
   "source": [
    "col_detail = test_set['Detail'].tolist()"
   ]
  },
  {
   "cell_type": "code",
   "execution_count": 12,
   "id": "16fea74d",
   "metadata": {
    "scrolled": true
   },
   "outputs": [],
   "source": [
    "#Clean-data\n",
    "import pythainlp\n",
    "from pythainlp import word_tokenize\n",
    "from pythainlp.corpus import thai_stopwords\n",
    "from pythainlp.corpus import wordnet\n",
    "from nltk.stem.porter import PorterStemmer\n",
    "from nltk.corpus import words\n",
    "from stop_words import get_stop_words"
   ]
  },
  {
   "cell_type": "code",
   "execution_count": 13,
   "id": "6308a368",
   "metadata": {},
   "outputs": [
    {
     "name": "stderr",
     "output_type": "stream",
     "text": [
      "[nltk_data] Downloading package stopwords to\n",
      "[nltk_data]     C:\\Users\\Acer\\AppData\\Roaming\\nltk_data...\n",
      "[nltk_data]   Package stopwords is already up-to-date!\n"
     ]
    }
   ],
   "source": [
    "import re\n",
    "import string\n",
    "import nltk\n",
    "nltk.download(\"stopwords\")\n",
    "th_stop = thai_stopwords()\n",
    "en_stop = tuple(get_stop_words('en'))\n"
   ]
  },
  {
   "cell_type": "code",
   "execution_count": 14,
   "id": "23d32d76",
   "metadata": {},
   "outputs": [],
   "source": [
    "def clean_msg(msg):\n",
    "    \n",
    "    \n",
    "    # ลบ text ที่อยู่ในวงเล็บ <> ทั้งหมด\n",
    "    msg = re.sub(r'<.*?>','', msg)\n",
    "    \n",
    "    # ลบ hashtag\n",
    "    msg = re.sub(r'#','',msg)\n",
    "    \n",
    "    # ลบ เครื่องหมายคำพูด (punctuation)\n",
    "    for c in string.punctuation:\n",
    "        msg = re.sub(r'\\{}'.format(c),'',msg)\n",
    "    \n",
    "    # ลบ separator เช่น \\n \\t\n",
    "    msg = ' '.join(msg.split())\n",
    "    \n",
    "    return msg"
   ]
  },
  {
   "cell_type": "code",
   "execution_count": 15,
   "id": "79fa26af",
   "metadata": {},
   "outputs": [],
   "source": [
    "def split_word(text):\n",
    "            \n",
    "    \n",
    "    tokens = word_tokenize(text,engine='newmm')\n",
    "    \n",
    "    # Remove stop words ภาษาไทย และภาษาอังกฤษ\n",
    "    tokens = [i for i in tokens if not i in th_stop and not i in en_stop]\n",
    "    \n",
    "    \n",
    "    # ลบตัวเลข\n",
    "    tokens = [i for i in tokens if not i.isnumeric()]\n",
    "    \n",
    "    # ลบช่องว่าง\n",
    "    tokens = [i for i in tokens if not ' ' in i]\n",
    "\n",
    "    return tokens"
   ]
  },
  {
   "cell_type": "code",
   "execution_count": 16,
   "id": "d1f27aa5",
   "metadata": {},
   "outputs": [],
   "source": [
    "clean_text = [clean_msg(txt) for txt in col_detail]\n",
    "tokens_list = [split_word(txt) for txt in clean_text]"
   ]
  },
  {
   "cell_type": "code",
   "execution_count": 17,
   "id": "5054f528",
   "metadata": {},
   "outputs": [],
   "source": [
    "#TF-IDF\n",
    "from sklearn.feature_extraction.text import TfidfVectorizer\n",
    "from pythainlp.corpus import thai_stopwords\n",
    "stop_words= thai_stopwords()"
   ]
  },
  {
   "cell_type": "code",
   "execution_count": 18,
   "id": "67d1b93d",
   "metadata": {},
   "outputs": [],
   "source": [
    "def identity_fun(text):\n",
    "    return text"
   ]
  },
  {
   "cell_type": "code",
   "execution_count": 19,
   "id": "a952cc19",
   "metadata": {},
   "outputs": [],
   "source": [
    "tfidf_vectorizer = TfidfVectorizer(analyzer = 'word', #this is default\n",
    "                                   tokenizer=identity_fun, #does no extra tokenizing\n",
    "                                   preprocessor=identity_fun, #no extra preprocessor\n",
    "                                   token_pattern=None)"
   ]
  },
  {
   "cell_type": "code",
   "execution_count": 21,
   "id": "ea19fe74",
   "metadata": {},
   "outputs": [
    {
     "data": {
      "text/html": [
       "<div>\n",
       "<style scoped>\n",
       "    .dataframe tbody tr th:only-of-type {\n",
       "        vertical-align: middle;\n",
       "    }\n",
       "\n",
       "    .dataframe tbody tr th {\n",
       "        vertical-align: top;\n",
       "    }\n",
       "\n",
       "    .dataframe thead th {\n",
       "        text-align: right;\n",
       "    }\n",
       "</style>\n",
       "<table border=\"1\" class=\"dataframe\">\n",
       "  <thead>\n",
       "    <tr style=\"text-align: right;\">\n",
       "      <th></th>\n",
       "      <th>A</th>\n",
       "      <th>AIA</th>\n",
       "      <th>ASAP</th>\n",
       "      <th>ATM</th>\n",
       "      <th>Abdomen</th>\n",
       "      <th>Access</th>\n",
       "      <th>Admit</th>\n",
       "      <th>AdultPed</th>\n",
       "      <th>Aetna</th>\n",
       "      <th>Affordable</th>\n",
       "      <th>...</th>\n",
       "      <th>ๆๆๆๆๆๆส์</th>\n",
       "      <th>ๆ​</th>\n",
       "      <th>ๆ”</th>\n",
       "      <th>์</th>\n",
       "      <th>์คง</th>\n",
       "      <th>์ฯ</th>\n",
       "      <th>​</th>\n",
       "      <th>’</th>\n",
       "      <th>“</th>\n",
       "      <th>”</th>\n",
       "    </tr>\n",
       "  </thead>\n",
       "  <tbody>\n",
       "    <tr>\n",
       "      <th>0</th>\n",
       "      <td>0.0</td>\n",
       "      <td>0.0</td>\n",
       "      <td>0.0</td>\n",
       "      <td>0.0</td>\n",
       "      <td>0.0</td>\n",
       "      <td>0.0</td>\n",
       "      <td>0.0</td>\n",
       "      <td>0.0</td>\n",
       "      <td>0.0</td>\n",
       "      <td>0.0</td>\n",
       "      <td>...</td>\n",
       "      <td>0.0</td>\n",
       "      <td>0.0</td>\n",
       "      <td>0.0</td>\n",
       "      <td>0.0</td>\n",
       "      <td>0.0</td>\n",
       "      <td>0.0</td>\n",
       "      <td>0.0</td>\n",
       "      <td>0.0</td>\n",
       "      <td>0.0</td>\n",
       "      <td>0.0</td>\n",
       "    </tr>\n",
       "    <tr>\n",
       "      <th>1</th>\n",
       "      <td>0.0</td>\n",
       "      <td>0.0</td>\n",
       "      <td>0.0</td>\n",
       "      <td>0.0</td>\n",
       "      <td>0.0</td>\n",
       "      <td>0.0</td>\n",
       "      <td>0.0</td>\n",
       "      <td>0.0</td>\n",
       "      <td>0.0</td>\n",
       "      <td>0.0</td>\n",
       "      <td>...</td>\n",
       "      <td>0.0</td>\n",
       "      <td>0.0</td>\n",
       "      <td>0.0</td>\n",
       "      <td>0.0</td>\n",
       "      <td>0.0</td>\n",
       "      <td>0.0</td>\n",
       "      <td>0.0</td>\n",
       "      <td>0.0</td>\n",
       "      <td>0.0</td>\n",
       "      <td>0.0</td>\n",
       "    </tr>\n",
       "    <tr>\n",
       "      <th>2</th>\n",
       "      <td>0.0</td>\n",
       "      <td>0.0</td>\n",
       "      <td>0.0</td>\n",
       "      <td>0.0</td>\n",
       "      <td>0.0</td>\n",
       "      <td>0.0</td>\n",
       "      <td>0.0</td>\n",
       "      <td>0.0</td>\n",
       "      <td>0.0</td>\n",
       "      <td>0.0</td>\n",
       "      <td>...</td>\n",
       "      <td>0.0</td>\n",
       "      <td>0.0</td>\n",
       "      <td>0.0</td>\n",
       "      <td>0.0</td>\n",
       "      <td>0.0</td>\n",
       "      <td>0.0</td>\n",
       "      <td>0.0</td>\n",
       "      <td>0.0</td>\n",
       "      <td>0.0</td>\n",
       "      <td>0.0</td>\n",
       "    </tr>\n",
       "    <tr>\n",
       "      <th>3</th>\n",
       "      <td>0.0</td>\n",
       "      <td>0.0</td>\n",
       "      <td>0.0</td>\n",
       "      <td>0.0</td>\n",
       "      <td>0.0</td>\n",
       "      <td>0.0</td>\n",
       "      <td>0.0</td>\n",
       "      <td>0.0</td>\n",
       "      <td>0.0</td>\n",
       "      <td>0.0</td>\n",
       "      <td>...</td>\n",
       "      <td>0.0</td>\n",
       "      <td>0.0</td>\n",
       "      <td>0.0</td>\n",
       "      <td>0.0</td>\n",
       "      <td>0.0</td>\n",
       "      <td>0.0</td>\n",
       "      <td>0.0</td>\n",
       "      <td>0.0</td>\n",
       "      <td>0.0</td>\n",
       "      <td>0.0</td>\n",
       "    </tr>\n",
       "    <tr>\n",
       "      <th>4</th>\n",
       "      <td>0.0</td>\n",
       "      <td>0.0</td>\n",
       "      <td>0.0</td>\n",
       "      <td>0.0</td>\n",
       "      <td>0.0</td>\n",
       "      <td>0.0</td>\n",
       "      <td>0.0</td>\n",
       "      <td>0.0</td>\n",
       "      <td>0.0</td>\n",
       "      <td>0.0</td>\n",
       "      <td>...</td>\n",
       "      <td>0.0</td>\n",
       "      <td>0.0</td>\n",
       "      <td>0.0</td>\n",
       "      <td>0.0</td>\n",
       "      <td>0.0</td>\n",
       "      <td>0.0</td>\n",
       "      <td>0.0</td>\n",
       "      <td>0.0</td>\n",
       "      <td>0.0</td>\n",
       "      <td>0.0</td>\n",
       "    </tr>\n",
       "    <tr>\n",
       "      <th>...</th>\n",
       "      <td>...</td>\n",
       "      <td>...</td>\n",
       "      <td>...</td>\n",
       "      <td>...</td>\n",
       "      <td>...</td>\n",
       "      <td>...</td>\n",
       "      <td>...</td>\n",
       "      <td>...</td>\n",
       "      <td>...</td>\n",
       "      <td>...</td>\n",
       "      <td>...</td>\n",
       "      <td>...</td>\n",
       "      <td>...</td>\n",
       "      <td>...</td>\n",
       "      <td>...</td>\n",
       "      <td>...</td>\n",
       "      <td>...</td>\n",
       "      <td>...</td>\n",
       "      <td>...</td>\n",
       "      <td>...</td>\n",
       "      <td>...</td>\n",
       "    </tr>\n",
       "    <tr>\n",
       "      <th>5880</th>\n",
       "      <td>0.0</td>\n",
       "      <td>0.0</td>\n",
       "      <td>0.0</td>\n",
       "      <td>0.0</td>\n",
       "      <td>0.0</td>\n",
       "      <td>0.0</td>\n",
       "      <td>0.0</td>\n",
       "      <td>0.0</td>\n",
       "      <td>0.0</td>\n",
       "      <td>0.0</td>\n",
       "      <td>...</td>\n",
       "      <td>0.0</td>\n",
       "      <td>0.0</td>\n",
       "      <td>0.0</td>\n",
       "      <td>0.0</td>\n",
       "      <td>0.0</td>\n",
       "      <td>0.0</td>\n",
       "      <td>0.0</td>\n",
       "      <td>0.0</td>\n",
       "      <td>0.0</td>\n",
       "      <td>0.0</td>\n",
       "    </tr>\n",
       "    <tr>\n",
       "      <th>5881</th>\n",
       "      <td>0.0</td>\n",
       "      <td>0.0</td>\n",
       "      <td>0.0</td>\n",
       "      <td>0.0</td>\n",
       "      <td>0.0</td>\n",
       "      <td>0.0</td>\n",
       "      <td>0.0</td>\n",
       "      <td>0.0</td>\n",
       "      <td>0.0</td>\n",
       "      <td>0.0</td>\n",
       "      <td>...</td>\n",
       "      <td>0.0</td>\n",
       "      <td>0.0</td>\n",
       "      <td>0.0</td>\n",
       "      <td>0.0</td>\n",
       "      <td>0.0</td>\n",
       "      <td>0.0</td>\n",
       "      <td>0.0</td>\n",
       "      <td>0.0</td>\n",
       "      <td>0.0</td>\n",
       "      <td>0.0</td>\n",
       "    </tr>\n",
       "    <tr>\n",
       "      <th>5882</th>\n",
       "      <td>0.0</td>\n",
       "      <td>0.0</td>\n",
       "      <td>0.0</td>\n",
       "      <td>0.0</td>\n",
       "      <td>0.0</td>\n",
       "      <td>0.0</td>\n",
       "      <td>0.0</td>\n",
       "      <td>0.0</td>\n",
       "      <td>0.0</td>\n",
       "      <td>0.0</td>\n",
       "      <td>...</td>\n",
       "      <td>0.0</td>\n",
       "      <td>0.0</td>\n",
       "      <td>0.0</td>\n",
       "      <td>0.0</td>\n",
       "      <td>0.0</td>\n",
       "      <td>0.0</td>\n",
       "      <td>0.0</td>\n",
       "      <td>0.0</td>\n",
       "      <td>0.0</td>\n",
       "      <td>0.0</td>\n",
       "    </tr>\n",
       "    <tr>\n",
       "      <th>5883</th>\n",
       "      <td>0.0</td>\n",
       "      <td>0.0</td>\n",
       "      <td>0.0</td>\n",
       "      <td>0.0</td>\n",
       "      <td>0.0</td>\n",
       "      <td>0.0</td>\n",
       "      <td>0.0</td>\n",
       "      <td>0.0</td>\n",
       "      <td>0.0</td>\n",
       "      <td>0.0</td>\n",
       "      <td>...</td>\n",
       "      <td>0.0</td>\n",
       "      <td>0.0</td>\n",
       "      <td>0.0</td>\n",
       "      <td>0.0</td>\n",
       "      <td>0.0</td>\n",
       "      <td>0.0</td>\n",
       "      <td>0.0</td>\n",
       "      <td>0.0</td>\n",
       "      <td>0.0</td>\n",
       "      <td>0.0</td>\n",
       "    </tr>\n",
       "    <tr>\n",
       "      <th>5884</th>\n",
       "      <td>0.0</td>\n",
       "      <td>0.0</td>\n",
       "      <td>0.0</td>\n",
       "      <td>0.0</td>\n",
       "      <td>0.0</td>\n",
       "      <td>0.0</td>\n",
       "      <td>0.0</td>\n",
       "      <td>0.0</td>\n",
       "      <td>0.0</td>\n",
       "      <td>0.0</td>\n",
       "      <td>...</td>\n",
       "      <td>0.0</td>\n",
       "      <td>0.0</td>\n",
       "      <td>0.0</td>\n",
       "      <td>0.0</td>\n",
       "      <td>0.0</td>\n",
       "      <td>0.0</td>\n",
       "      <td>0.0</td>\n",
       "      <td>0.0</td>\n",
       "      <td>0.0</td>\n",
       "      <td>0.0</td>\n",
       "    </tr>\n",
       "  </tbody>\n",
       "</table>\n",
       "<p>5885 rows × 5057 columns</p>\n",
       "</div>"
      ],
      "text/plain": [
       "        A  AIA  ASAP  ATM  Abdomen  Access  Admit  AdultPed  Aetna  \\\n",
       "0     0.0  0.0   0.0  0.0      0.0     0.0    0.0       0.0    0.0   \n",
       "1     0.0  0.0   0.0  0.0      0.0     0.0    0.0       0.0    0.0   \n",
       "2     0.0  0.0   0.0  0.0      0.0     0.0    0.0       0.0    0.0   \n",
       "3     0.0  0.0   0.0  0.0      0.0     0.0    0.0       0.0    0.0   \n",
       "4     0.0  0.0   0.0  0.0      0.0     0.0    0.0       0.0    0.0   \n",
       "...   ...  ...   ...  ...      ...     ...    ...       ...    ...   \n",
       "5880  0.0  0.0   0.0  0.0      0.0     0.0    0.0       0.0    0.0   \n",
       "5881  0.0  0.0   0.0  0.0      0.0     0.0    0.0       0.0    0.0   \n",
       "5882  0.0  0.0   0.0  0.0      0.0     0.0    0.0       0.0    0.0   \n",
       "5883  0.0  0.0   0.0  0.0      0.0     0.0    0.0       0.0    0.0   \n",
       "5884  0.0  0.0   0.0  0.0      0.0     0.0    0.0       0.0    0.0   \n",
       "\n",
       "      Affordable  ...  ๆๆๆๆๆๆส์   ๆ​   ๆ”    ์  ์คง   ์ฯ    ​    ’    “    ”  \n",
       "0            0.0  ...       0.0  0.0  0.0  0.0  0.0  0.0  0.0  0.0  0.0  0.0  \n",
       "1            0.0  ...       0.0  0.0  0.0  0.0  0.0  0.0  0.0  0.0  0.0  0.0  \n",
       "2            0.0  ...       0.0  0.0  0.0  0.0  0.0  0.0  0.0  0.0  0.0  0.0  \n",
       "3            0.0  ...       0.0  0.0  0.0  0.0  0.0  0.0  0.0  0.0  0.0  0.0  \n",
       "4            0.0  ...       0.0  0.0  0.0  0.0  0.0  0.0  0.0  0.0  0.0  0.0  \n",
       "...          ...  ...       ...  ...  ...  ...  ...  ...  ...  ...  ...  ...  \n",
       "5880         0.0  ...       0.0  0.0  0.0  0.0  0.0  0.0  0.0  0.0  0.0  0.0  \n",
       "5881         0.0  ...       0.0  0.0  0.0  0.0  0.0  0.0  0.0  0.0  0.0  0.0  \n",
       "5882         0.0  ...       0.0  0.0  0.0  0.0  0.0  0.0  0.0  0.0  0.0  0.0  \n",
       "5883         0.0  ...       0.0  0.0  0.0  0.0  0.0  0.0  0.0  0.0  0.0  0.0  \n",
       "5884         0.0  ...       0.0  0.0  0.0  0.0  0.0  0.0  0.0  0.0  0.0  0.0  \n",
       "\n",
       "[5885 rows x 5057 columns]"
      ]
     },
     "execution_count": 21,
     "metadata": {},
     "output_type": "execute_result"
    }
   ],
   "source": [
    "tfidf_vector= tfidf_vectorizer.fit_transform(tokens_list)\n",
    "tfidf_array = np.array(tfidf_vector.todense())\n",
    "\n",
    "#แปลงเป็น DataFrame เพื่อง่ายแก่การอ่าน\n",
    "df = pd.DataFrame(tfidf_array,columns=tfidf_vectorizer.get_feature_names_out())\n",
    "df"
   ]
  },
  {
   "cell_type": "code",
   "execution_count": 22,
   "id": "4681a2ad",
   "metadata": {},
   "outputs": [],
   "source": [
    "#ML Model\n",
    "from sklearn.model_selection import train_test_split\n",
    "from sklearn import svm\n",
    "from sklearn.metrics import accuracy_score\n",
    "from sklearn.metrics import confusion_matrix\n",
    "from sklearn.metrics import classification_report\n",
    "from sklearn.model_selection import GridSearchCV\n",
    "from sklearn.svm import SVC"
   ]
  },
  {
   "cell_type": "code",
   "execution_count": 23,
   "id": "6c287dc7",
   "metadata": {},
   "outputs": [
    {
     "data": {
      "text/plain": [
       "5885"
      ]
     },
     "execution_count": 23,
     "metadata": {},
     "output_type": "execute_result"
    }
   ],
   "source": [
    "answer  = test_set['Class']\n",
    "len(answer)"
   ]
  },
  {
   "cell_type": "code",
   "execution_count": 24,
   "id": "48e40255",
   "metadata": {},
   "outputs": [],
   "source": [
    "X = df\n",
    "y = answer\n",
    "\n",
    "X_train, X_test, y_train, y_test = train_test_split(X, y, test_size=0.3, random_state=42)"
   ]
  },
  {
   "cell_type": "code",
   "execution_count": 25,
   "id": "3920c2fd",
   "metadata": {},
   "outputs": [
    {
     "data": {
      "text/plain": [
       "((5885, 5057), (5885,))"
      ]
     },
     "execution_count": 25,
     "metadata": {},
     "output_type": "execute_result"
    }
   ],
   "source": [
    "X.shape,y.shape"
   ]
  },
  {
   "cell_type": "code",
   "execution_count": 26,
   "id": "1b5e5be4",
   "metadata": {},
   "outputs": [
    {
     "data": {
      "text/plain": [
       "((4119, 5057), (4119,))"
      ]
     },
     "execution_count": 26,
     "metadata": {},
     "output_type": "execute_result"
    }
   ],
   "source": [
    "X_train.shape, y_train.shape"
   ]
  },
  {
   "cell_type": "code",
   "execution_count": 27,
   "id": "c02dd9e4",
   "metadata": {},
   "outputs": [
    {
     "data": {
      "text/plain": [
       "((1766, 5057), (1766,))"
      ]
     },
     "execution_count": 27,
     "metadata": {},
     "output_type": "execute_result"
    }
   ],
   "source": [
    "X_test.shape, y_test.shape"
   ]
  },
  {
   "cell_type": "code",
   "execution_count": 30,
   "id": "fa073f11",
   "metadata": {},
   "outputs": [],
   "source": [
    "#Create a svm Classifier\n",
    "clf = SVC(kernel='linear') # Linear Kernel\n",
    "\n",
    "#Train the model using the training sets\n",
    "clf.fit(X_train, y_train)\n",
    "\n",
    "#Predict the response for test dataset\n",
    "y_pred = clf.predict(X_test)"
   ]
  },
  {
   "cell_type": "code",
   "execution_count": 31,
   "id": "734a480e",
   "metadata": {},
   "outputs": [
    {
     "name": "stdout",
     "output_type": "stream",
     "text": [
      "              precision    recall  f1-score   support\n",
      "\n",
      "           0   0.968379  0.959843  0.964092      1021\n",
      "           1   0.945623  0.957047  0.951301       745\n",
      "\n",
      "    accuracy                       0.958664      1766\n",
      "   macro avg   0.957001  0.958445  0.957697      1766\n",
      "weighted avg   0.958780  0.958664  0.958696      1766\n",
      "\n"
     ]
    }
   ],
   "source": [
    "print(classification_report(y_test, y_pred, digits = 6))"
   ]
  },
  {
   "cell_type": "code",
   "execution_count": 32,
   "id": "0e787af9",
   "metadata": {},
   "outputs": [
    {
     "data": {
      "text/plain": [
       "array([[980,  41],\n",
       "       [ 32, 713]], dtype=int64)"
      ]
     },
     "execution_count": 32,
     "metadata": {},
     "output_type": "execute_result"
    }
   ],
   "source": [
    "confusion_matrix(y_test, y_pred)"
   ]
  },
  {
   "cell_type": "code",
   "execution_count": 33,
   "id": "085a5710",
   "metadata": {},
   "outputs": [],
   "source": [
    "from joblib import dump"
   ]
  },
  {
   "cell_type": "code",
   "execution_count": 35,
   "id": "dbe82b53",
   "metadata": {
    "scrolled": true
   },
   "outputs": [],
   "source": [
    "pickle.dump(clf, open('svm.sav','wb'))"
   ]
  },
  {
   "cell_type": "code",
   "execution_count": null,
   "id": "4a014a21",
   "metadata": {},
   "outputs": [],
   "source": []
  }
 ],
 "metadata": {
  "kernelspec": {
   "display_name": "Python 3 (ipykernel)",
   "language": "python",
   "name": "python3"
  },
  "language_info": {
   "codemirror_mode": {
    "name": "ipython",
    "version": 3
   },
   "file_extension": ".py",
   "mimetype": "text/x-python",
   "name": "python",
   "nbconvert_exporter": "python",
   "pygments_lexer": "ipython3",
   "version": "3.10.1"
  }
 },
 "nbformat": 4,
 "nbformat_minor": 5
}
